{
 "cells": [
  {
   "cell_type": "code",
   "execution_count": 1,
   "id": "3d78512e",
   "metadata": {},
   "outputs": [
    {
     "name": "stderr",
     "output_type": "stream",
     "text": [
      "C:\\Users\\ACER\\AppData\\Local\\Temp\\ipykernel_1160\\833469625.py:4: FutureWarning: The argument 'infer_datetime_format' is deprecated and will be removed in a future version. A strict version of it is now the default, see https://pandas.pydata.org/pdeps/0004-consistent-to-datetime-parsing.html. You can safely remove this argument.\n",
      "  data = pd.read_csv('household_power_consumption.txt', delimiter=';', parse_dates=['Date'], infer_datetime_format=True)\n",
      "C:\\Users\\ACER\\AppData\\Local\\Temp\\ipykernel_1160\\833469625.py:4: DtypeWarning: Columns (2,3,4,5,6,7) have mixed types. Specify dtype option on import or set low_memory=False.\n",
      "  data = pd.read_csv('household_power_consumption.txt', delimiter=';', parse_dates=['Date'], infer_datetime_format=True)\n",
      "C:\\Users\\ACER\\AppData\\Local\\Temp\\ipykernel_1160\\833469625.py:4: UserWarning: Parsing dates in %d/%m/%Y format when dayfirst=False (the default) was specified. Pass `dayfirst=True` or specify a format to silence this warning.\n",
      "  data = pd.read_csv('household_power_consumption.txt', delimiter=';', parse_dates=['Date'], infer_datetime_format=True)\n"
     ]
    },
    {
     "name": "stdout",
     "output_type": "stream",
     "text": [
      "        Date      Time Global_active_power Global_reactive_power  Voltage  \\\n",
      "0 2006-12-16  17:24:00               4.216                 0.418  234.840   \n",
      "1 2006-12-16  17:25:00               5.360                 0.436  233.630   \n",
      "2 2006-12-16  17:26:00               5.374                 0.498  233.290   \n",
      "3 2006-12-16  17:27:00               5.388                 0.502  233.740   \n",
      "4 2006-12-16  17:28:00               3.666                 0.528  235.680   \n",
      "\n",
      "  Global_intensity Sub_metering_1 Sub_metering_2  Sub_metering_3  \n",
      "0           18.400          0.000          1.000            17.0  \n",
      "1           23.000          0.000          1.000            16.0  \n",
      "2           23.000          0.000          2.000            17.0  \n",
      "3           23.000          0.000          1.000            17.0  \n",
      "4           15.800          0.000          1.000            17.0  \n"
     ]
    }
   ],
   "source": [
    "import pandas as pd\n",
    "\n",
    "# Load the dataset (assuming the file uses a semicolon as a delimiter)\n",
    "data = pd.read_csv('household_power_consumption.txt', delimiter=';', parse_dates=['Date'], infer_datetime_format=True)\n",
    "\n",
    "# Preview the dataset\n",
    "print(data.head())"
   ]
  },
  {
   "cell_type": "code",
   "execution_count": 2,
   "id": "e9b0fc00",
   "metadata": {},
   "outputs": [
    {
     "name": "stdout",
     "output_type": "stream",
     "text": [
      "Index(['Date', 'Time', 'Global_active_power', 'Global_reactive_power',\n",
      "       'Voltage', 'Global_intensity', 'Sub_metering_1', 'Sub_metering_2',\n",
      "       'Sub_metering_3'],\n",
      "      dtype='object')\n",
      "Date                     datetime64[ns]\n",
      "Time                             object\n",
      "Global_active_power              object\n",
      "Global_reactive_power            object\n",
      "Voltage                          object\n",
      "Global_intensity                 object\n",
      "Sub_metering_1                   object\n",
      "Sub_metering_2                   object\n",
      "Sub_metering_3                  float64\n",
      "dtype: object\n"
     ]
    }
   ],
   "source": [
    "# Check for column names and data types\n",
    "print(data.columns)\n",
    "print(data.dtypes)"
   ]
  },
  {
   "cell_type": "code",
   "execution_count": 3,
   "id": "8271bb79",
   "metadata": {},
   "outputs": [],
   "source": [
    "# Handling missing values\n",
    "data = data.interpolate(method='linear')  # Example: linear interpolation"
   ]
  },
  {
   "cell_type": "code",
   "execution_count": 4,
   "id": "d43d6a5a",
   "metadata": {},
   "outputs": [],
   "source": [
    "# Convert numeric columns from object type to float or int\n",
    "data['Global_active_power'] = pd.to_numeric(data['Global_active_power'], errors='coerce')\n",
    "data['Global_reactive_power'] = pd.to_numeric(data['Global_reactive_power'], errors='coerce')\n",
    "data['Voltage'] = pd.to_numeric(data['Voltage'], errors='coerce')\n",
    "data['Global_intensity'] = pd.to_numeric(data['Global_intensity'], errors='coerce')\n",
    "data['Sub_metering_1'] = pd.to_numeric(data['Sub_metering_1'], errors='coerce')\n",
    "data['Sub_metering_2'] = pd.to_numeric(data['Sub_metering_2'], errors='coerce')"
   ]
  },
  {
   "cell_type": "code",
   "execution_count": 5,
   "id": "cd279cbd",
   "metadata": {},
   "outputs": [
    {
     "name": "stdout",
     "output_type": "stream",
     "text": [
      "<class 'pandas.core.frame.DataFrame'>\n",
      "RangeIndex: 2075259 entries, 0 to 2075258\n",
      "Data columns (total 9 columns):\n",
      " #   Column                 Dtype         \n",
      "---  ------                 -----         \n",
      " 0   Date                   datetime64[ns]\n",
      " 1   Time                   object        \n",
      " 2   Global_active_power    float64       \n",
      " 3   Global_reactive_power  float64       \n",
      " 4   Voltage                float64       \n",
      " 5   Global_intensity       float64       \n",
      " 6   Sub_metering_1         float64       \n",
      " 7   Sub_metering_2         float64       \n",
      " 8   Sub_metering_3         float64       \n",
      "dtypes: datetime64[ns](1), float64(7), object(1)\n",
      "memory usage: 142.5+ MB\n",
      "None\n",
      "        Date      Time  Global_active_power  Global_reactive_power  Voltage  \\\n",
      "0 2006-12-16  17:24:00                4.216                  0.418   234.84   \n",
      "1 2006-12-16  17:25:00                5.360                  0.436   233.63   \n",
      "2 2006-12-16  17:26:00                5.374                  0.498   233.29   \n",
      "3 2006-12-16  17:27:00                5.388                  0.502   233.74   \n",
      "4 2006-12-16  17:28:00                3.666                  0.528   235.68   \n",
      "\n",
      "   Global_intensity  Sub_metering_1  Sub_metering_2  Sub_metering_3  \n",
      "0              18.4             0.0             1.0            17.0  \n",
      "1              23.0             0.0             1.0            16.0  \n",
      "2              23.0             0.0             2.0            17.0  \n",
      "3              23.0             0.0             1.0            17.0  \n",
      "4              15.8             0.0             1.0            17.0  \n"
     ]
    }
   ],
   "source": [
    "print(data.info())\n",
    "print(data.head())"
   ]
  },
  {
   "cell_type": "code",
   "execution_count": null,
   "id": "d463c0d5",
   "metadata": {},
   "outputs": [],
   "source": []
  }
 ],
 "metadata": {
  "kernelspec": {
   "display_name": "Python 3 (ipykernel)",
   "language": "python",
   "name": "python3"
  },
  "language_info": {
   "codemirror_mode": {
    "name": "ipython",
    "version": 3
   },
   "file_extension": ".py",
   "mimetype": "text/x-python",
   "name": "python",
   "nbconvert_exporter": "python",
   "pygments_lexer": "ipython3",
   "version": "3.11.5"
  }
 },
 "nbformat": 4,
 "nbformat_minor": 5
}
